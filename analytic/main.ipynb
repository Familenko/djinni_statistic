{
 "cells": [
  {
   "cell_type": "code",
   "execution_count": 70,
   "id": "initial_id",
   "metadata": {
    "collapsed": true,
    "ExecuteTime": {
     "end_time": "2024-01-08T22:40:43.185383Z",
     "start_time": "2024-01-08T22:40:43.183106Z"
    }
   },
   "outputs": [],
   "source": [
    "import pandas as pd"
   ]
  },
  {
   "cell_type": "code",
   "execution_count": 71,
   "outputs": [],
   "source": [
    "df = pd.read_csv('analytic/db.csv')"
   ],
   "metadata": {
    "collapsed": false,
    "ExecuteTime": {
     "end_time": "2024-01-08T22:40:43.201738Z",
     "start_time": "2024-01-08T22:40:43.187007Z"
    }
   },
   "id": "2cb41f9e53669eb0"
  },
  {
   "cell_type": "code",
   "execution_count": 72,
   "outputs": [
    {
     "data": {
      "text/plain": "                                                 title       company  \\\n0            Middle Python Software Engineer (Prom.ua)           EVO   \n1                   Back-End Python (Django) Developer   StrimkoSoft   \n2                       Senior Python Backend Engineer       Develux   \n3                               Senior Python Engineer        Stylus   \n4          Data and Machine Learning Engineer (Python)    Softwarium   \n..                                                 ...           ...   \n182                   Tech Lead Data Engineer (Python)      FF Group   \n183                            Junior Python Developer      CheckLab   \n184  Python developer with Cloud and DevOps experience        Luxoft   \n185  Senior - Regular Python Developer ( EST workin...        Luxoft   \n186                       Pyton Developer 4+ years exp  Addstrategix   \n\n                             location  \\\n0                             Україна   \n1                             Україна   \n2                      Україна (Київ)   \n3                      Україна (Київ)   \n4                      Україна (Київ)   \n..                                ...   \n182             Чехія, Україна (Київ)   \n183  Велика Британія, Сполучені Штати   \n184     Україна (Дніпро, Київ, Одеса)   \n185                           Україна   \n186                           Україна   \n\n                                          requirements  \\\n0    ['· Product', '· Office або Remote', '· 3 роки...   \n1    ['· Тільки віддалено', '· 5 років досвіду', '·...   \n2    ['· Product', '· Office або Remote', '· 5 рокі...   \n3    ['· Product', '· Office або Remote', '· 5 рокі...   \n4    ['· Тільки віддалено', '· 5 років досвіду', '·...   \n..                                                 ...   \n182  ['· Product', '· Office або Remote', '· 3 роки...   \n183  ['· Product', '· Тільки віддалено', '· 2 роки ...   \n184  ['· Office або Remote', '· 2 роки досвіду', '·...   \n185  ['· Office або Remote', '· 3 роки досвіду', '·...   \n186        ['· Тільки віддалено', '· 5 років досвіду']   \n\n                                           description  views_count  \\\n0    Prom.ua – найбільший маркетплейс України, де п...            6   \n1    We are seeking an experienced Python Developer...           19   \n2    How old is the project? What stage is it at? W...            1   \n3    Stylus — українська продуктова компанія, яка р...            2   \n4    We are, Softwarium — Ukrainian outsourcing IT-...            4   \n..                                                 ...          ...   \n182  Required work experience: 3–6 years Type of em...           16   \n183  You should be able to pick some code and under...          121   \n184  Project Description: One of the world's larges...           12   \n185  Project Description: Applying to the position,...           14   \n186  Responsibilities: ● Design and develop REST AP...            7   \n\n     reviews_count  \n0               95  \n1               45  \n2               13  \n3               23  \n4               21  \n..             ...  \n182             69  \n183            469  \n184             65  \n185             89  \n186             43  \n\n[187 rows x 7 columns]",
      "text/html": "<div>\n<style scoped>\n    .dataframe tbody tr th:only-of-type {\n        vertical-align: middle;\n    }\n\n    .dataframe tbody tr th {\n        vertical-align: top;\n    }\n\n    .dataframe thead th {\n        text-align: right;\n    }\n</style>\n<table border=\"1\" class=\"dataframe\">\n  <thead>\n    <tr style=\"text-align: right;\">\n      <th></th>\n      <th>title</th>\n      <th>company</th>\n      <th>location</th>\n      <th>requirements</th>\n      <th>description</th>\n      <th>views_count</th>\n      <th>reviews_count</th>\n    </tr>\n  </thead>\n  <tbody>\n    <tr>\n      <th>0</th>\n      <td>Middle Python Software Engineer (Prom.ua)</td>\n      <td>EVO</td>\n      <td>Україна</td>\n      <td>['· Product', '· Office або Remote', '· 3 роки...</td>\n      <td>Prom.ua – найбільший маркетплейс України, де п...</td>\n      <td>6</td>\n      <td>95</td>\n    </tr>\n    <tr>\n      <th>1</th>\n      <td>Back-End Python (Django) Developer</td>\n      <td>StrimkoSoft</td>\n      <td>Україна</td>\n      <td>['· Тільки віддалено', '· 5 років досвіду', '·...</td>\n      <td>We are seeking an experienced Python Developer...</td>\n      <td>19</td>\n      <td>45</td>\n    </tr>\n    <tr>\n      <th>2</th>\n      <td>Senior Python Backend Engineer</td>\n      <td>Develux</td>\n      <td>Україна (Київ)</td>\n      <td>['· Product', '· Office або Remote', '· 5 рокі...</td>\n      <td>How old is the project? What stage is it at? W...</td>\n      <td>1</td>\n      <td>13</td>\n    </tr>\n    <tr>\n      <th>3</th>\n      <td>Senior Python Engineer</td>\n      <td>Stylus</td>\n      <td>Україна (Київ)</td>\n      <td>['· Product', '· Office або Remote', '· 5 рокі...</td>\n      <td>Stylus — українська продуктова компанія, яка р...</td>\n      <td>2</td>\n      <td>23</td>\n    </tr>\n    <tr>\n      <th>4</th>\n      <td>Data and Machine Learning Engineer (Python)</td>\n      <td>Softwarium</td>\n      <td>Україна (Київ)</td>\n      <td>['· Тільки віддалено', '· 5 років досвіду', '·...</td>\n      <td>We are, Softwarium — Ukrainian outsourcing IT-...</td>\n      <td>4</td>\n      <td>21</td>\n    </tr>\n    <tr>\n      <th>...</th>\n      <td>...</td>\n      <td>...</td>\n      <td>...</td>\n      <td>...</td>\n      <td>...</td>\n      <td>...</td>\n      <td>...</td>\n    </tr>\n    <tr>\n      <th>182</th>\n      <td>Tech Lead Data Engineer (Python)</td>\n      <td>FF Group</td>\n      <td>Чехія, Україна (Київ)</td>\n      <td>['· Product', '· Office або Remote', '· 3 роки...</td>\n      <td>Required work experience: 3–6 years Type of em...</td>\n      <td>16</td>\n      <td>69</td>\n    </tr>\n    <tr>\n      <th>183</th>\n      <td>Junior Python Developer</td>\n      <td>CheckLab</td>\n      <td>Велика Британія, Сполучені Штати</td>\n      <td>['· Product', '· Тільки віддалено', '· 2 роки ...</td>\n      <td>You should be able to pick some code and under...</td>\n      <td>121</td>\n      <td>469</td>\n    </tr>\n    <tr>\n      <th>184</th>\n      <td>Python developer with Cloud and DevOps experience</td>\n      <td>Luxoft</td>\n      <td>Україна (Дніпро, Київ, Одеса)</td>\n      <td>['· Office або Remote', '· 2 роки досвіду', '·...</td>\n      <td>Project Description: One of the world's larges...</td>\n      <td>12</td>\n      <td>65</td>\n    </tr>\n    <tr>\n      <th>185</th>\n      <td>Senior - Regular Python Developer ( EST workin...</td>\n      <td>Luxoft</td>\n      <td>Україна</td>\n      <td>['· Office або Remote', '· 3 роки досвіду', '·...</td>\n      <td>Project Description: Applying to the position,...</td>\n      <td>14</td>\n      <td>89</td>\n    </tr>\n    <tr>\n      <th>186</th>\n      <td>Pyton Developer 4+ years exp</td>\n      <td>Addstrategix</td>\n      <td>Україна</td>\n      <td>['· Тільки віддалено', '· 5 років досвіду']</td>\n      <td>Responsibilities: ● Design and develop REST AP...</td>\n      <td>7</td>\n      <td>43</td>\n    </tr>\n  </tbody>\n</table>\n<p>187 rows × 7 columns</p>\n</div>"
     },
     "execution_count": 72,
     "metadata": {},
     "output_type": "execute_result"
    }
   ],
   "source": [
    "df"
   ],
   "metadata": {
    "collapsed": false,
    "ExecuteTime": {
     "end_time": "2024-01-08T22:40:43.209974Z",
     "start_time": "2024-01-08T22:40:43.205939Z"
    }
   },
   "id": "e5f1461156c6b1e5"
  },
  {
   "cell_type": "code",
   "execution_count": 72,
   "outputs": [],
   "source": [],
   "metadata": {
    "collapsed": false,
    "ExecuteTime": {
     "end_time": "2024-01-08T22:40:43.211210Z",
     "start_time": "2024-01-08T22:40:43.208851Z"
    }
   },
   "id": "f162c0abe5f96de1"
  }
 ],
 "metadata": {
  "kernelspec": {
   "display_name": "Python 3",
   "language": "python",
   "name": "python3"
  },
  "language_info": {
   "codemirror_mode": {
    "name": "ipython",
    "version": 2
   },
   "file_extension": ".py",
   "mimetype": "text/x-python",
   "name": "python",
   "nbconvert_exporter": "python",
   "pygments_lexer": "ipython2",
   "version": "2.7.6"
  }
 },
 "nbformat": 4,
 "nbformat_minor": 5
}
